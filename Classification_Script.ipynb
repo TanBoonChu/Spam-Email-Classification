{
  "cells": [
    {
      "cell_type": "markdown",
      "source": [
        ""
      ],
      "metadata": {
        "id": "w3-LTdwHq10A"
      },
      "id": "w3-LTdwHq10A"
    },
    {
      "cell_type": "markdown",
      "id": "fbc65a0e",
      "metadata": {
        "id": "fbc65a0e"
      },
      "source": [
        "# MCSD2123-01 MASSIVE DATA MINING AND STREAMING\n"
      ]
    },
    {
      "cell_type": "markdown",
      "id": "f99db93d",
      "metadata": {
        "id": "f99db93d"
      },
      "source": [
        "## Assignment 1\n",
        "#### Machine learning has been widely used in email spam filtering. Given two sets of labeled datasets of text messages (spam or not-spam).\n",
        "#### Using the given datasets, required to train models that can classify text messages using TWO (2) supervised learning algorithms. Then, evaluate and compare the performance of both models, and interpret the results.\n",
        "#### Design and implement experiments in Python or any other tools."
      ]
    },
    {
      "cell_type": "markdown",
      "id": "d19f13a9",
      "metadata": {
        "id": "d19f13a9"
      },
      "source": [
        "## Group 2:\n",
        "## 1. Tan Boon Chu (MCS211006)\n",
        "## 2. Chong Chin Teng (MCS211014)\n",
        "## 3. Pua Zheng Ying (MCS211031)"
      ]
    },
    {
      "cell_type": "markdown",
      "id": "5aa95542",
      "metadata": {
        "id": "5aa95542"
      },
      "source": [
        "# \n",
        "# 1.0 Dataset Overview\n",
        "* Pre-processing and preparation of the data"
      ]
    },
    {
      "cell_type": "markdown",
      "id": "00e0ee0b",
      "metadata": {
        "id": "00e0ee0b"
      },
      "source": [
        "## 1.1 Connect to Google Drive"
      ]
    },
    {
      "cell_type": "code",
      "source": [
        "import pandas as pd\n",
        "import numpy as np"
      ],
      "metadata": {
        "id": "lhhJGJx-Zbpt"
      },
      "id": "lhhJGJx-Zbpt",
      "execution_count": null,
      "outputs": []
    },
    {
      "cell_type": "code",
      "execution_count": null,
      "id": "0b818ced",
      "metadata": {
        "id": "0b818ced"
      },
      "outputs": [],
      "source": [
        "# Import PyDrive and libraries\n",
        "from pydrive.auth import GoogleAuth\n",
        "from pydrive.drive import GoogleDrive\n",
        "from google.colab import auth\n",
        "from oauth2client.client import GoogleCredentials\n",
        "\n",
        "# Authenticate and create the PyDrive client\n",
        "auth.authenticate_user()\n",
        "gauth = GoogleAuth()\n",
        "gauth.credentials = GoogleCredentials.get_application_default()\n",
        "drive = GoogleDrive(gauth)"
      ]
    },
    {
      "cell_type": "code",
      "execution_count": null,
      "id": "0f480232",
      "metadata": {
        "id": "0f480232"
      },
      "outputs": [],
      "source": [
        "# Downloading data file.\n",
        "file_id = '1PVWX3ZpznS5RdYBHL7k3dE-se3LyDnIr'\n",
        "downloaded = drive.CreateFile({'id': file_id})\n",
        "\n",
        "# Save file in Colab memory\n",
        "downloaded.GetContentFile('Data2.csv')  "
      ]
    },
    {
      "cell_type": "code",
      "source": [
        "# Read Data file\n",
        "df = pd.read_csv('Data2.csv')\n",
        "\n",
        "# View first 10 rows\n",
        "print(df.head(10))"
      ],
      "metadata": {
        "id": "wefSN2RLlH1A",
        "outputId": "27699245-dbc1-4f13-f5a3-930522d28075",
        "colab": {
          "base_uri": "https://localhost:8080/"
        }
      },
      "id": "wefSN2RLlH1A",
      "execution_count": null,
      "outputs": [
        {
          "output_type": "stream",
          "name": "stdout",
          "text": [
            "  Category                                            Message\n",
            "0      ham  Go until jurong point, crazy.. Available only ...\n",
            "1      ham                      Ok lar... Joking wif u oni...\n",
            "2     spam  Free entry in 2 a wkly comp to win FA Cup fina...\n",
            "3      ham  U dun say so early hor... U c already then say...\n",
            "4      ham  Nah I don't think he goes to usf, he lives aro...\n",
            "5     spam  FreeMsg Hey there darling it's been 3 week's n...\n",
            "6      ham  Even my brother is not like to speak with me. ...\n",
            "7      ham  As per your request 'Melle Melle (Oru Minnamin...\n",
            "8     spam  WINNER!! As a valued network customer you have...\n",
            "9     spam  Had your mobile 11 months or more? U R entitle...\n"
          ]
        }
      ]
    },
    {
      "cell_type": "markdown",
      "id": "f06ba0f6",
      "metadata": {
        "id": "f06ba0f6"
      },
      "source": [
        "\n",
        "## 1.2 Load, Analyze and Visualize Dataset"
      ]
    },
    {
      "cell_type": "code",
      "execution_count": null,
      "id": "00583e11",
      "metadata": {
        "id": "00583e11"
      },
      "outputs": [],
      "source": [
        "# Import necessary packages\n",
        "import matplotlib.pyplot as plt \n",
        "%matplotlib inline"
      ]
    },
    {
      "cell_type": "code",
      "execution_count": null,
      "id": "c4ef1fe8",
      "metadata": {
        "colab": {
          "base_uri": "https://localhost:8080/",
          "height": 363
        },
        "id": "c4ef1fe8",
        "outputId": "da3e0e6c-e4d4-4d4c-b74d-8a9726005409"
      },
      "outputs": [
        {
          "output_type": "execute_result",
          "data": {
            "text/plain": [
              "     Category                                            Message\n",
              "2484      ham      Mm have some kanji dont eat anything heavy ok\n",
              "1626      ham  Hi Dear Call me its urgnt. I don't know whats ...\n",
              "1833      ham                        What time is ur flight tmr?\n",
              "4358      ham  HELLOGORGEOUS, HOWS U? MY FONE WAS ON CHARGE L...\n",
              "3379      ham                           Hows that watch resizing\n",
              "1590      ham  I love you. You set my soul on fire. It is not...\n",
              "5440      ham      Thank you. do you generally date the brothas?\n",
              "541      spam  from www.Applausestore.com MonthlySubscription...\n",
              "2816      ham  Some are lasting as much as 2 hours. You might...\n",
              "3343      ham                 You will go to walmart. I.ll stay."
            ],
            "text/html": [
              "\n",
              "  <div id=\"df-5b3b26bd-696e-4140-b2fc-b965c0ba141b\">\n",
              "    <div class=\"colab-df-container\">\n",
              "      <div>\n",
              "<style scoped>\n",
              "    .dataframe tbody tr th:only-of-type {\n",
              "        vertical-align: middle;\n",
              "    }\n",
              "\n",
              "    .dataframe tbody tr th {\n",
              "        vertical-align: top;\n",
              "    }\n",
              "\n",
              "    .dataframe thead th {\n",
              "        text-align: right;\n",
              "    }\n",
              "</style>\n",
              "<table border=\"1\" class=\"dataframe\">\n",
              "  <thead>\n",
              "    <tr style=\"text-align: right;\">\n",
              "      <th></th>\n",
              "      <th>Category</th>\n",
              "      <th>Message</th>\n",
              "    </tr>\n",
              "  </thead>\n",
              "  <tbody>\n",
              "    <tr>\n",
              "      <th>2484</th>\n",
              "      <td>ham</td>\n",
              "      <td>Mm have some kanji dont eat anything heavy ok</td>\n",
              "    </tr>\n",
              "    <tr>\n",
              "      <th>1626</th>\n",
              "      <td>ham</td>\n",
              "      <td>Hi Dear Call me its urgnt. I don't know whats ...</td>\n",
              "    </tr>\n",
              "    <tr>\n",
              "      <th>1833</th>\n",
              "      <td>ham</td>\n",
              "      <td>What time is ur flight tmr?</td>\n",
              "    </tr>\n",
              "    <tr>\n",
              "      <th>4358</th>\n",
              "      <td>ham</td>\n",
              "      <td>HELLOGORGEOUS, HOWS U? MY FONE WAS ON CHARGE L...</td>\n",
              "    </tr>\n",
              "    <tr>\n",
              "      <th>3379</th>\n",
              "      <td>ham</td>\n",
              "      <td>Hows that watch resizing</td>\n",
              "    </tr>\n",
              "    <tr>\n",
              "      <th>1590</th>\n",
              "      <td>ham</td>\n",
              "      <td>I love you. You set my soul on fire. It is not...</td>\n",
              "    </tr>\n",
              "    <tr>\n",
              "      <th>5440</th>\n",
              "      <td>ham</td>\n",
              "      <td>Thank you. do you generally date the brothas?</td>\n",
              "    </tr>\n",
              "    <tr>\n",
              "      <th>541</th>\n",
              "      <td>spam</td>\n",
              "      <td>from www.Applausestore.com MonthlySubscription...</td>\n",
              "    </tr>\n",
              "    <tr>\n",
              "      <th>2816</th>\n",
              "      <td>ham</td>\n",
              "      <td>Some are lasting as much as 2 hours. You might...</td>\n",
              "    </tr>\n",
              "    <tr>\n",
              "      <th>3343</th>\n",
              "      <td>ham</td>\n",
              "      <td>You will go to walmart. I.ll stay.</td>\n",
              "    </tr>\n",
              "  </tbody>\n",
              "</table>\n",
              "</div>\n",
              "      <button class=\"colab-df-convert\" onclick=\"convertToInteractive('df-5b3b26bd-696e-4140-b2fc-b965c0ba141b')\"\n",
              "              title=\"Convert this dataframe to an interactive table.\"\n",
              "              style=\"display:none;\">\n",
              "        \n",
              "  <svg xmlns=\"http://www.w3.org/2000/svg\" height=\"24px\"viewBox=\"0 0 24 24\"\n",
              "       width=\"24px\">\n",
              "    <path d=\"M0 0h24v24H0V0z\" fill=\"none\"/>\n",
              "    <path d=\"M18.56 5.44l.94 2.06.94-2.06 2.06-.94-2.06-.94-.94-2.06-.94 2.06-2.06.94zm-11 1L8.5 8.5l.94-2.06 2.06-.94-2.06-.94L8.5 2.5l-.94 2.06-2.06.94zm10 10l.94 2.06.94-2.06 2.06-.94-2.06-.94-.94-2.06-.94 2.06-2.06.94z\"/><path d=\"M17.41 7.96l-1.37-1.37c-.4-.4-.92-.59-1.43-.59-.52 0-1.04.2-1.43.59L10.3 9.45l-7.72 7.72c-.78.78-.78 2.05 0 2.83L4 21.41c.39.39.9.59 1.41.59.51 0 1.02-.2 1.41-.59l7.78-7.78 2.81-2.81c.8-.78.8-2.07 0-2.86zM5.41 20L4 18.59l7.72-7.72 1.47 1.35L5.41 20z\"/>\n",
              "  </svg>\n",
              "      </button>\n",
              "      \n",
              "  <style>\n",
              "    .colab-df-container {\n",
              "      display:flex;\n",
              "      flex-wrap:wrap;\n",
              "      gap: 12px;\n",
              "    }\n",
              "\n",
              "    .colab-df-convert {\n",
              "      background-color: #E8F0FE;\n",
              "      border: none;\n",
              "      border-radius: 50%;\n",
              "      cursor: pointer;\n",
              "      display: none;\n",
              "      fill: #1967D2;\n",
              "      height: 32px;\n",
              "      padding: 0 0 0 0;\n",
              "      width: 32px;\n",
              "    }\n",
              "\n",
              "    .colab-df-convert:hover {\n",
              "      background-color: #E2EBFA;\n",
              "      box-shadow: 0px 1px 2px rgba(60, 64, 67, 0.3), 0px 1px 3px 1px rgba(60, 64, 67, 0.15);\n",
              "      fill: #174EA6;\n",
              "    }\n",
              "\n",
              "    [theme=dark] .colab-df-convert {\n",
              "      background-color: #3B4455;\n",
              "      fill: #D2E3FC;\n",
              "    }\n",
              "\n",
              "    [theme=dark] .colab-df-convert:hover {\n",
              "      background-color: #434B5C;\n",
              "      box-shadow: 0px 1px 3px 1px rgba(0, 0, 0, 0.15);\n",
              "      filter: drop-shadow(0px 1px 2px rgba(0, 0, 0, 0.3));\n",
              "      fill: #FFFFFF;\n",
              "    }\n",
              "  </style>\n",
              "\n",
              "      <script>\n",
              "        const buttonEl =\n",
              "          document.querySelector('#df-5b3b26bd-696e-4140-b2fc-b965c0ba141b button.colab-df-convert');\n",
              "        buttonEl.style.display =\n",
              "          google.colab.kernel.accessAllowed ? 'block' : 'none';\n",
              "\n",
              "        async function convertToInteractive(key) {\n",
              "          const element = document.querySelector('#df-5b3b26bd-696e-4140-b2fc-b965c0ba141b');\n",
              "          const dataTable =\n",
              "            await google.colab.kernel.invokeFunction('convertToInteractive',\n",
              "                                                     [key], {});\n",
              "          if (!dataTable) return;\n",
              "\n",
              "          const docLinkHtml = 'Like what you see? Visit the ' +\n",
              "            '<a target=\"_blank\" href=https://colab.research.google.com/notebooks/data_table.ipynb>data table notebook</a>'\n",
              "            + ' to learn more about interactive tables.';\n",
              "          element.innerHTML = '';\n",
              "          dataTable['output_type'] = 'display_data';\n",
              "          await google.colab.output.renderOutput(dataTable, element);\n",
              "          const docLink = document.createElement('div');\n",
              "          docLink.innerHTML = docLinkHtml;\n",
              "          element.appendChild(docLink);\n",
              "        }\n",
              "      </script>\n",
              "    </div>\n",
              "  </div>\n",
              "  "
            ]
          },
          "metadata": {},
          "execution_count": 6
        }
      ],
      "source": [
        "# View 10 sample messages\n",
        "df.sample(10)"
      ]
    },
    {
      "cell_type": "code",
      "execution_count": null,
      "id": "c58561b5",
      "metadata": {
        "colab": {
          "base_uri": "https://localhost:8080/"
        },
        "id": "c58561b5",
        "outputId": "a9eb008e-1c90-4a8d-9207-5b561c3ba89c"
      },
      "outputs": [
        {
          "output_type": "stream",
          "name": "stdout",
          "text": [
            "   Category                                            Message\n",
            "0         0  Go until jurong point, crazy.. Available only ...\n",
            "1         0                      Ok lar... Joking wif u oni...\n",
            "2         1  Free entry in 2 a wkly comp to win FA Cup fina...\n",
            "3         0  U dun say so early hor... U c already then say...\n",
            "4         0  Nah I don't think he goes to usf, he lives aro...\n"
          ]
        }
      ],
      "source": [
        "df['Category'] = df.Category.map({'ham':0, 'spam':1})\n",
        "print(df.head())"
      ]
    },
    {
      "cell_type": "code",
      "execution_count": null,
      "id": "ef47abc9",
      "metadata": {
        "colab": {
          "base_uri": "https://localhost:8080/"
        },
        "id": "ef47abc9",
        "outputId": "d09098e7-529c-4e46-b0f3-dd4ca7d81fe0"
      },
      "outputs": [
        {
          "output_type": "stream",
          "name": "stdout",
          "text": [
            "Number of Message: 5572\n"
          ]
        }
      ],
      "source": [
        "# Check total number of message of dataset\n",
        "print(\"Number of Message: {}\".format(len(df)))"
      ]
    },
    {
      "cell_type": "code",
      "execution_count": null,
      "id": "9bd49ff2",
      "metadata": {
        "colab": {
          "base_uri": "https://localhost:8080/",
          "height": 175
        },
        "id": "9bd49ff2",
        "outputId": "12564dd7-2b90-4c0b-8563-4481c2ccfa77"
      },
      "outputs": [
        {
          "output_type": "execute_result",
          "data": {
            "text/plain": [
              "Category                             0  \\\n",
              "Message count                     4825   \n",
              "        unique                    4516   \n",
              "        top     Sorry, I'll call later   \n",
              "        freq                        30   \n",
              "\n",
              "Category                                                        1  \n",
              "Message count                                                 747  \n",
              "        unique                                                641  \n",
              "        top     Please call our customer service representativ...  \n",
              "        freq                                                    4  "
            ],
            "text/html": [
              "\n",
              "  <div id=\"df-4757fbb2-1b0e-41fb-9c89-8dd88d4eb0fe\">\n",
              "    <div class=\"colab-df-container\">\n",
              "      <div>\n",
              "<style scoped>\n",
              "    .dataframe tbody tr th:only-of-type {\n",
              "        vertical-align: middle;\n",
              "    }\n",
              "\n",
              "    .dataframe tbody tr th {\n",
              "        vertical-align: top;\n",
              "    }\n",
              "\n",
              "    .dataframe thead th {\n",
              "        text-align: right;\n",
              "    }\n",
              "</style>\n",
              "<table border=\"1\" class=\"dataframe\">\n",
              "  <thead>\n",
              "    <tr style=\"text-align: right;\">\n",
              "      <th></th>\n",
              "      <th>Category</th>\n",
              "      <th>0</th>\n",
              "      <th>1</th>\n",
              "    </tr>\n",
              "  </thead>\n",
              "  <tbody>\n",
              "    <tr>\n",
              "      <th rowspan=\"4\" valign=\"top\">Message</th>\n",
              "      <th>count</th>\n",
              "      <td>4825</td>\n",
              "      <td>747</td>\n",
              "    </tr>\n",
              "    <tr>\n",
              "      <th>unique</th>\n",
              "      <td>4516</td>\n",
              "      <td>641</td>\n",
              "    </tr>\n",
              "    <tr>\n",
              "      <th>top</th>\n",
              "      <td>Sorry, I'll call later</td>\n",
              "      <td>Please call our customer service representativ...</td>\n",
              "    </tr>\n",
              "    <tr>\n",
              "      <th>freq</th>\n",
              "      <td>30</td>\n",
              "      <td>4</td>\n",
              "    </tr>\n",
              "  </tbody>\n",
              "</table>\n",
              "</div>\n",
              "      <button class=\"colab-df-convert\" onclick=\"convertToInteractive('df-4757fbb2-1b0e-41fb-9c89-8dd88d4eb0fe')\"\n",
              "              title=\"Convert this dataframe to an interactive table.\"\n",
              "              style=\"display:none;\">\n",
              "        \n",
              "  <svg xmlns=\"http://www.w3.org/2000/svg\" height=\"24px\"viewBox=\"0 0 24 24\"\n",
              "       width=\"24px\">\n",
              "    <path d=\"M0 0h24v24H0V0z\" fill=\"none\"/>\n",
              "    <path d=\"M18.56 5.44l.94 2.06.94-2.06 2.06-.94-2.06-.94-.94-2.06-.94 2.06-2.06.94zm-11 1L8.5 8.5l.94-2.06 2.06-.94-2.06-.94L8.5 2.5l-.94 2.06-2.06.94zm10 10l.94 2.06.94-2.06 2.06-.94-2.06-.94-.94-2.06-.94 2.06-2.06.94z\"/><path d=\"M17.41 7.96l-1.37-1.37c-.4-.4-.92-.59-1.43-.59-.52 0-1.04.2-1.43.59L10.3 9.45l-7.72 7.72c-.78.78-.78 2.05 0 2.83L4 21.41c.39.39.9.59 1.41.59.51 0 1.02-.2 1.41-.59l7.78-7.78 2.81-2.81c.8-.78.8-2.07 0-2.86zM5.41 20L4 18.59l7.72-7.72 1.47 1.35L5.41 20z\"/>\n",
              "  </svg>\n",
              "      </button>\n",
              "      \n",
              "  <style>\n",
              "    .colab-df-container {\n",
              "      display:flex;\n",
              "      flex-wrap:wrap;\n",
              "      gap: 12px;\n",
              "    }\n",
              "\n",
              "    .colab-df-convert {\n",
              "      background-color: #E8F0FE;\n",
              "      border: none;\n",
              "      border-radius: 50%;\n",
              "      cursor: pointer;\n",
              "      display: none;\n",
              "      fill: #1967D2;\n",
              "      height: 32px;\n",
              "      padding: 0 0 0 0;\n",
              "      width: 32px;\n",
              "    }\n",
              "\n",
              "    .colab-df-convert:hover {\n",
              "      background-color: #E2EBFA;\n",
              "      box-shadow: 0px 1px 2px rgba(60, 64, 67, 0.3), 0px 1px 3px 1px rgba(60, 64, 67, 0.15);\n",
              "      fill: #174EA6;\n",
              "    }\n",
              "\n",
              "    [theme=dark] .colab-df-convert {\n",
              "      background-color: #3B4455;\n",
              "      fill: #D2E3FC;\n",
              "    }\n",
              "\n",
              "    [theme=dark] .colab-df-convert:hover {\n",
              "      background-color: #434B5C;\n",
              "      box-shadow: 0px 1px 3px 1px rgba(0, 0, 0, 0.15);\n",
              "      filter: drop-shadow(0px 1px 2px rgba(0, 0, 0, 0.3));\n",
              "      fill: #FFFFFF;\n",
              "    }\n",
              "  </style>\n",
              "\n",
              "      <script>\n",
              "        const buttonEl =\n",
              "          document.querySelector('#df-4757fbb2-1b0e-41fb-9c89-8dd88d4eb0fe button.colab-df-convert');\n",
              "        buttonEl.style.display =\n",
              "          google.colab.kernel.accessAllowed ? 'block' : 'none';\n",
              "\n",
              "        async function convertToInteractive(key) {\n",
              "          const element = document.querySelector('#df-4757fbb2-1b0e-41fb-9c89-8dd88d4eb0fe');\n",
              "          const dataTable =\n",
              "            await google.colab.kernel.invokeFunction('convertToInteractive',\n",
              "                                                     [key], {});\n",
              "          if (!dataTable) return;\n",
              "\n",
              "          const docLinkHtml = 'Like what you see? Visit the ' +\n",
              "            '<a target=\"_blank\" href=https://colab.research.google.com/notebooks/data_table.ipynb>data table notebook</a>'\n",
              "            + ' to learn more about interactive tables.';\n",
              "          element.innerHTML = '';\n",
              "          dataTable['output_type'] = 'display_data';\n",
              "          await google.colab.output.renderOutput(dataTable, element);\n",
              "          const docLink = document.createElement('div');\n",
              "          docLink.innerHTML = docLinkHtml;\n",
              "          element.appendChild(docLink);\n",
              "        }\n",
              "      </script>\n",
              "    </div>\n",
              "  </div>\n",
              "  "
            ]
          },
          "metadata": {},
          "execution_count": 9
        }
      ],
      "source": [
        "# To view the details for two category: ham and spam messages\n",
        "df.groupby('Category').describe().T"
      ]
    },
    {
      "cell_type": "code",
      "execution_count": null,
      "id": "2067712f",
      "metadata": {
        "colab": {
          "base_uri": "https://localhost:8080/"
        },
        "id": "2067712f",
        "outputId": "d47aebf4-493d-48d5-e16d-af8090f874f4"
      },
      "outputs": [
        {
          "output_type": "stream",
          "name": "stdout",
          "text": [
            "Number of ham: 4825\n",
            "Number of spam: 747\n"
          ]
        }
      ],
      "source": [
        "# Show the total number of each category\n",
        "print(\"Number of ham: {}\".format(df[df[\"Category\"]==0].count()[0]))\n",
        "print(\"Number of spam: {}\".format(df[df[\"Category\"]==1].count()[0]))"
      ]
    },
    {
      "cell_type": "code",
      "execution_count": null,
      "id": "ce048fc2",
      "metadata": {
        "id": "ce048fc2"
      },
      "outputs": [],
      "source": [
        "# View a message and its sentiment based on a message ID\n",
        "msg_id = 134\n",
        "msg = df.iloc[msg_id]"
      ]
    },
    {
      "cell_type": "code",
      "execution_count": null,
      "id": "62c8f765",
      "metadata": {
        "colab": {
          "base_uri": "https://localhost:8080/"
        },
        "id": "62c8f765",
        "outputId": "aa898b1f-2713-4600-992a-62cba15db57d"
      },
      "outputs": [
        {
          "output_type": "stream",
          "name": "stdout",
          "text": [
            "Message: Sunshine Quiz Wkly Q! Win a top Sony DVD player if u know which country the Algarve is in? Txt ansr to 82277. £1.50 SP:Tyrone\n",
            "Message sentiment: 1\n"
          ]
        }
      ],
      "source": [
        "print(\"Message: {}\".format(msg[\"Message\"]))\n",
        "print(\"Message sentiment: {}\".format(msg[\"Category\"]))"
      ]
    },
    {
      "cell_type": "markdown",
      "id": "2cea8b58",
      "metadata": {
        "id": "2cea8b58"
      },
      "source": [
        "### Pie Chart by using Matplotlib"
      ]
    },
    {
      "cell_type": "code",
      "execution_count": null,
      "id": "cffe684b",
      "metadata": {
        "colab": {
          "base_uri": "https://localhost:8080/",
          "height": 248
        },
        "id": "cffe684b",
        "outputId": "5bad08ce-d3d1-498d-df11-36277d3bec2b"
      },
      "outputs": [
        {
          "output_type": "display_data",
          "data": {
            "text/plain": [
              "<Figure size 432x288 with 1 Axes>"
            ],
            "image/png": "[encoded data removed]"
          },
          "metadata": {}
        }
      ],
      "source": [
        "#From describe len(spam)=4825,len(ham)=747 to plot pie chart to visualize each category percentage\n",
        "size = [4825, 747]  \n",
        "labels = ['ham,0', 'spam,1']\n",
        "colors = ['lightblue', 'red']\n",
        "\n",
        "plt.pie(size, colors = colors, labels = labels, shadow = True, explode=(0,0.2),autopct = '%0.2f%%')\n",
        "plt.legend()\n",
        "plt.show()"
      ]
    },
    {
      "cell_type": "markdown",
      "id": "8af8fa70",
      "metadata": {
        "id": "8af8fa70"
      },
      "source": [
        "### Wordclouds"
      ]
    },
    {
      "cell_type": "code",
      "execution_count": null,
      "id": "d4a97f04",
      "metadata": {
        "id": "d4a97f04"
      },
      "outputs": [],
      "source": [
        "# Import Wordclouds' package for quick overview of most recurrent words in the text corpus\n",
        "from wordcloud import WordCloud"
      ]
    },
    {
      "cell_type": "code",
      "execution_count": null,
      "id": "546de325",
      "metadata": {
        "colab": {
          "base_uri": "https://localhost:8080/",
          "height": 198
        },
        "id": "546de325",
        "outputId": "2ae4873e-b9d8-426b-bf20-91c36b13780c"
      },
      "outputs": [
        {
          "output_type": "display_data",
          "data": {
            "text/plain": [
              "<Figure size 432x288 with 1 Axes>"
            ],
            "image/png": "[encoded data removed]"
          },
          "metadata": {
            "needs_background": "light"
          }
        }
      ],
      "source": [
        "# Display the most recurrent words in Spam Category\n",
        "pos_messages = df[df[\"Category\"]==1]\n",
        "txt = \" \".join(msg.lower() for msg in pos_messages[\"Message\"])\n",
        "wordcloud = WordCloud().generate(txt)\n",
        "plt.imshow(wordcloud, interpolation=\"bilinear\")\n",
        "plt.axis(\"off\")\n",
        "plt.show()"
      ]
    },
    {
      "cell_type": "code",
      "execution_count": null,
      "id": "f225840e",
      "metadata": {
        "colab": {
          "base_uri": "https://localhost:8080/",
          "height": 198
        },
        "id": "f225840e",
        "outputId": "13018686-925f-436f-f93a-59ba9774c2c2"
      },
      "outputs": [
        {
          "output_type": "display_data",
          "data": {
            "text/plain": [
              "<Figure size 432x288 with 1 Axes>"
            ],
            "image/png": "[encoded data removed]"
          },
          "metadata": {
            "needs_background": "light"
          }
        }
      ],
      "source": [
        "# Display the most recurrent words in Ham Category\n",
        "pos_messages = df[df[\"Category\"]==0]\n",
        "txt = \" \".join(msg.lower() for msg in pos_messages[\"Message\"])\n",
        "wordcloud = WordCloud().generate(txt)\n",
        "plt.imshow(wordcloud, interpolation=\"bilinear\")\n",
        "plt.axis(\"off\")\n",
        "plt.show()"
      ]
    },
    {
      "cell_type": "markdown",
      "id": "cf777a32",
      "metadata": {
        "id": "cf777a32"
      },
      "source": [
        "# \n",
        "# 2.0 Text Normalization: Text Cleaning and Feature Extraction"
      ]
    },
    {
      "cell_type": "markdown",
      "id": "16f21673",
      "metadata": {
        "id": "16f21673"
      },
      "source": [
        "* **Implementing Bag of Words** by remove upper capitalization, remove all punctuations, then tokenize into piece of text and count the frequency of the words in that text."
      ]
    },
    {
      "cell_type": "code",
      "execution_count": null,
      "id": "c89989c9",
      "metadata": {
        "id": "c89989c9"
      },
      "outputs": [],
      "source": [
        "# Let docs as example list of text\n",
        "docs = ['heLLO, how are YOU~',\n",
        "        'reply to win, WIN money!!!',\n",
        "        'Click this link...',\n",
        "        'Hello, cALL u u TMR??']"
      ]
    },
    {
      "cell_type": "code",
      "execution_count": null,
      "id": "61ad6989",
      "metadata": {
        "colab": {
          "base_uri": "https://localhost:8080/"
        },
        "id": "61ad6989",
        "outputId": "b7860f94-bedd-4e00-d94f-f4d189c0fb3b"
      },
      "outputs": [
        {
          "output_type": "stream",
          "name": "stdout",
          "text": [
            "['hello, how are you~', 'reply to win, win money!!!', 'click this link...', 'hello, call u u tmr??']\n"
          ]
        }
      ],
      "source": [
        "# Step 1: Remove upper capitalization\n",
        "lower_docs = []\n",
        "for i in docs:\n",
        "    lower_docs.append(i.lower())\n",
        "print(lower_docs)"
      ]
    },
    {
      "cell_type": "code",
      "source": [
        "# Step 2: Remove all punctuations\n",
        "# import string library to show all punctuations\n",
        "import string\n",
        "result = string.punctuation\n",
        "print(result)"
      ],
      "metadata": {
        "colab": {
          "base_uri": "https://localhost:8080/"
        },
        "id": "t3aW8ItkCgA7",
        "outputId": "86746ac8-6da1-4d5c-ed12-ab1d52627c0f"
      },
      "id": "t3aW8ItkCgA7",
      "execution_count": null,
      "outputs": [
        {
          "output_type": "stream",
          "name": "stdout",
          "text": [
            "!\"#$%&'()*+,-./:;<=>?@[\\]^_`{|}~\n"
          ]
        }
      ]
    },
    {
      "cell_type": "code",
      "source": [
        "# define function to remove punctuations\n",
        "def remove_punc(string):\n",
        "    for i in string:  \n",
        "        if i in result:  \n",
        "            string = string.replace(i, \"\") \n",
        "    return string\n",
        " \n",
        "lower_docs = [remove_punc(i) for i in lower_docs]\n",
        "print(lower_docs) # cleaned list"
      ],
      "metadata": {
        "colab": {
          "base_uri": "https://localhost:8080/"
        },
        "id": "Hbv2jouRDJrI",
        "outputId": "78e3bb1f-51e8-44c9-9347-4c5bdab5951c"
      },
      "id": "Hbv2jouRDJrI",
      "execution_count": null,
      "outputs": [
        {
          "output_type": "stream",
          "name": "stdout",
          "text": [
            "['hello how are you', 'reply to win win money', 'click this link', 'hello call u u tmr']\n"
          ]
        }
      ]
    },
    {
      "cell_type": "code",
      "execution_count": null,
      "id": "675a6902",
      "metadata": {
        "colab": {
          "base_uri": "https://localhost:8080/"
        },
        "id": "675a6902",
        "outputId": "f44e4ea2-873b-453c-eafc-f2dfc476dd07"
      },
      "outputs": [
        {
          "output_type": "stream",
          "name": "stdout",
          "text": [
            "[['hello', 'how', 'are', 'you'], ['reply', 'to', 'win', 'win', 'money'], ['click', 'this', 'link'], ['hello', 'call', 'u', 'u', 'tmr']]\n"
          ]
        }
      ],
      "source": [
        "# Step 3: Tokenize into piece of text\n",
        "preprocessed_docs = []\n",
        "for i in lower_docs:\n",
        "    preprocessed_docs.append(i.split(' '))\n",
        "print(preprocessed_docs)"
      ]
    },
    {
      "cell_type": "code",
      "execution_count": null,
      "id": "d7661b7b",
      "metadata": {
        "colab": {
          "base_uri": "https://localhost:8080/"
        },
        "id": "d7661b7b",
        "outputId": "1424051f-97eb-4a79-a64f-0f67a51bc01c"
      },
      "outputs": [
        {
          "output_type": "stream",
          "name": "stdout",
          "text": [
            "[Counter({'hello': 1, 'how': 1, 'are': 1, 'you': 1}),\n",
            " Counter({'win': 2, 'reply': 1, 'to': 1, 'money': 1}),\n",
            " Counter({'click': 1, 'this': 1, 'link': 1}),\n",
            " Counter({'u': 2, 'hello': 1, 'call': 1, 'tmr': 1})]\n"
          ]
        }
      ],
      "source": [
        "# Step 4: count the frequency of the words in that text.\n",
        "frequency_list = []\n",
        "import pprint\n",
        "from collections import Counter\n",
        "\n",
        "for i in preprocessed_docs:\n",
        "    frequency_counts = Counter(i)\n",
        "    frequency_list.append(frequency_counts)\n",
        "pprint.pprint(frequency_list)"
      ]
    },
    {
      "cell_type": "markdown",
      "id": "38f78922",
      "metadata": {
        "id": "38f78922"
      },
      "source": [
        "### Import CountVectorizer from the Scikit-learn Library"
      ]
    },
    {
      "cell_type": "code",
      "execution_count": null,
      "id": "9f1fc092",
      "metadata": {
        "id": "9f1fc092"
      },
      "outputs": [],
      "source": [
        "# to instantly vectorize as above using CountVectorizer\n",
        "from sklearn.feature_extraction.text import CountVectorizer\n",
        "count_vector = CountVectorizer()"
      ]
    },
    {
      "cell_type": "code",
      "source": [
        "docs = ['heLLO, how are YOU~',\n",
        "        'reply to win, WIN money!!!',\n",
        "        'Click this link...',\n",
        "        'Hello, cALL u u TMR??']"
      ],
      "metadata": {
        "id": "DwAI_ajbVlyu"
      },
      "id": "DwAI_ajbVlyu",
      "execution_count": null,
      "outputs": []
    },
    {
      "cell_type": "code",
      "execution_count": null,
      "id": "3c6f2731",
      "metadata": {
        "colab": {
          "base_uri": "https://localhost:8080/"
        },
        "id": "3c6f2731",
        "outputId": "927477aa-23c8-40b5-a48e-ec1f06d5e1df"
      },
      "outputs": [
        {
          "output_type": "execute_result",
          "data": {
            "text/plain": [
              "array(['are', 'call', 'click', 'hello', 'how', 'link', 'money', 'reply',\n",
              "       'this', 'tmr', 'to', 'win', 'you'], dtype=object)"
            ]
          },
          "metadata": {},
          "execution_count": 25
        }
      ],
      "source": [
        "count_vector.fit(docs)\n",
        "count_vector.get_feature_names_out()"
      ]
    },
    {
      "cell_type": "code",
      "execution_count": null,
      "id": "f333a042",
      "metadata": {
        "colab": {
          "base_uri": "https://localhost:8080/"
        },
        "id": "f333a042",
        "outputId": "20bbcf5f-87dc-47f7-d08e-c3105e148e89"
      },
      "outputs": [
        {
          "output_type": "execute_result",
          "data": {
            "text/plain": [
              "array([[1, 0, 0, 1, 1, 0, 0, 0, 0, 0, 0, 0, 1],\n",
              "       [0, 0, 0, 0, 0, 0, 1, 1, 0, 0, 1, 2, 0],\n",
              "       [0, 0, 1, 0, 0, 1, 0, 0, 1, 0, 0, 0, 0],\n",
              "       [0, 1, 0, 1, 0, 0, 0, 0, 0, 1, 0, 0, 0]])"
            ]
          },
          "metadata": {},
          "execution_count": 26
        }
      ],
      "source": [
        "doc_array = count_vector.transform(docs).toarray()\n",
        "doc_array"
      ]
    },
    {
      "cell_type": "code",
      "execution_count": null,
      "id": "de04a688",
      "metadata": {
        "colab": {
          "base_uri": "https://localhost:8080/",
          "height": 175
        },
        "id": "de04a688",
        "outputId": "6fc2469a-c72f-409b-a979-4e5a15d6e1c3"
      },
      "outputs": [
        {
          "output_type": "execute_result",
          "data": {
            "text/plain": [
              "   are  call  click  hello  how  link  money  reply  this  tmr  to  win  you\n",
              "0    1     0      0      1    1     0      0      0     0    0   0    0    1\n",
              "1    0     0      0      0    0     0      1      1     0    0   1    2    0\n",
              "2    0     0      1      0    0     1      0      0     1    0   0    0    0\n",
              "3    0     1      0      1    0     0      0      0     0    1   0    0    0"
            ],
            "text/html": [
              "\n",
              "  <div id=\"df-acc165b1-ec8a-4934-8e05-e1b056877454\">\n",
              "    <div class=\"colab-df-container\">\n",
              "      <div>\n",
              "<style scoped>\n",
              "    .dataframe tbody tr th:only-of-type {\n",
              "        vertical-align: middle;\n",
              "    }\n",
              "\n",
              "    .dataframe tbody tr th {\n",
              "        vertical-align: top;\n",
              "    }\n",
              "\n",
              "    .dataframe thead th {\n",
              "        text-align: right;\n",
              "    }\n",
              "</style>\n",
              "<table border=\"1\" class=\"dataframe\">\n",
              "  <thead>\n",
              "    <tr style=\"text-align: right;\">\n",
              "      <th></th>\n",
              "      <th>are</th>\n",
              "      <th>call</th>\n",
              "      <th>click</th>\n",
              "      <th>hello</th>\n",
              "      <th>how</th>\n",
              "      <th>link</th>\n",
              "      <th>money</th>\n",
              "      <th>reply</th>\n",
              "      <th>this</th>\n",
              "      <th>tmr</th>\n",
              "      <th>to</th>\n",
              "      <th>win</th>\n",
              "      <th>you</th>\n",
              "    </tr>\n",
              "  </thead>\n",
              "  <tbody>\n",
              "    <tr>\n",
              "      <th>0</th>\n",
              "      <td>1</td>\n",
              "      <td>0</td>\n",
              "      <td>0</td>\n",
              "      <td>1</td>\n",
              "      <td>1</td>\n",
              "      <td>0</td>\n",
              "      <td>0</td>\n",
              "      <td>0</td>\n",
              "      <td>0</td>\n",
              "      <td>0</td>\n",
              "      <td>0</td>\n",
              "      <td>0</td>\n",
              "      <td>1</td>\n",
              "    </tr>\n",
              "    <tr>\n",
              "      <th>1</th>\n",
              "      <td>0</td>\n",
              "      <td>0</td>\n",
              "      <td>0</td>\n",
              "      <td>0</td>\n",
              "      <td>0</td>\n",
              "      <td>0</td>\n",
              "      <td>1</td>\n",
              "      <td>1</td>\n",
              "      <td>0</td>\n",
              "      <td>0</td>\n",
              "      <td>1</td>\n",
              "      <td>2</td>\n",
              "      <td>0</td>\n",
              "    </tr>\n",
              "    <tr>\n",
              "      <th>2</th>\n",
              "      <td>0</td>\n",
              "      <td>0</td>\n",
              "      <td>1</td>\n",
              "      <td>0</td>\n",
              "      <td>0</td>\n",
              "      <td>1</td>\n",
              "      <td>0</td>\n",
              "      <td>0</td>\n",
              "      <td>1</td>\n",
              "      <td>0</td>\n",
              "      <td>0</td>\n",
              "      <td>0</td>\n",
              "      <td>0</td>\n",
              "    </tr>\n",
              "    <tr>\n",
              "      <th>3</th>\n",
              "      <td>0</td>\n",
              "      <td>1</td>\n",
              "      <td>0</td>\n",
              "      <td>1</td>\n",
              "      <td>0</td>\n",
              "      <td>0</td>\n",
              "      <td>0</td>\n",
              "      <td>0</td>\n",
              "      <td>0</td>\n",
              "      <td>1</td>\n",
              "      <td>0</td>\n",
              "      <td>0</td>\n",
              "      <td>0</td>\n",
              "    </tr>\n",
              "  </tbody>\n",
              "</table>\n",
              "</div>\n",
              "      <button class=\"colab-df-convert\" onclick=\"convertToInteractive('df-acc165b1-ec8a-4934-8e05-e1b056877454')\"\n",
              "              title=\"Convert this dataframe to an interactive table.\"\n",
              "              style=\"display:none;\">\n",
              "        \n",
              "  <svg xmlns=\"http://www.w3.org/2000/svg\" height=\"24px\"viewBox=\"0 0 24 24\"\n",
              "       width=\"24px\">\n",
              "    <path d=\"M0 0h24v24H0V0z\" fill=\"none\"/>\n",
              "    <path d=\"M18.56 5.44l.94 2.06.94-2.06 2.06-.94-2.06-.94-.94-2.06-.94 2.06-2.06.94zm-11 1L8.5 8.5l.94-2.06 2.06-.94-2.06-.94L8.5 2.5l-.94 2.06-2.06.94zm10 10l.94 2.06.94-2.06 2.06-.94-2.06-.94-.94-2.06-.94 2.06-2.06.94z\"/><path d=\"M17.41 7.96l-1.37-1.37c-.4-.4-.92-.59-1.43-.59-.52 0-1.04.2-1.43.59L10.3 9.45l-7.72 7.72c-.78.78-.78 2.05 0 2.83L4 21.41c.39.39.9.59 1.41.59.51 0 1.02-.2 1.41-.59l7.78-7.78 2.81-2.81c.8-.78.8-2.07 0-2.86zM5.41 20L4 18.59l7.72-7.72 1.47 1.35L5.41 20z\"/>\n",
              "  </svg>\n",
              "      </button>\n",
              "      \n",
              "  <style>\n",
              "    .colab-df-container {\n",
              "      display:flex;\n",
              "      flex-wrap:wrap;\n",
              "      gap: 12px;\n",
              "    }\n",
              "\n",
              "    .colab-df-convert {\n",
              "      background-color: #E8F0FE;\n",
              "      border: none;\n",
              "      border-radius: 50%;\n",
              "      cursor: pointer;\n",
              "      display: none;\n",
              "      fill: #1967D2;\n",
              "      height: 32px;\n",
              "      padding: 0 0 0 0;\n",
              "      width: 32px;\n",
              "    }\n",
              "\n",
              "    .colab-df-convert:hover {\n",
              "      background-color: #E2EBFA;\n",
              "      box-shadow: 0px 1px 2px rgba(60, 64, 67, 0.3), 0px 1px 3px 1px rgba(60, 64, 67, 0.15);\n",
              "      fill: #174EA6;\n",
              "    }\n",
              "\n",
              "    [theme=dark] .colab-df-convert {\n",
              "      background-color: #3B4455;\n",
              "      fill: #D2E3FC;\n",
              "    }\n",
              "\n",
              "    [theme=dark] .colab-df-convert:hover {\n",
              "      background-color: #434B5C;\n",
              "      box-shadow: 0px 1px 3px 1px rgba(0, 0, 0, 0.15);\n",
              "      filter: drop-shadow(0px 1px 2px rgba(0, 0, 0, 0.3));\n",
              "      fill: #FFFFFF;\n",
              "    }\n",
              "  </style>\n",
              "\n",
              "      <script>\n",
              "        const buttonEl =\n",
              "          document.querySelector('#df-acc165b1-ec8a-4934-8e05-e1b056877454 button.colab-df-convert');\n",
              "        buttonEl.style.display =\n",
              "          google.colab.kernel.accessAllowed ? 'block' : 'none';\n",
              "\n",
              "        async function convertToInteractive(key) {\n",
              "          const element = document.querySelector('#df-acc165b1-ec8a-4934-8e05-e1b056877454');\n",
              "          const dataTable =\n",
              "            await google.colab.kernel.invokeFunction('convertToInteractive',\n",
              "                                                     [key], {});\n",
              "          if (!dataTable) return;\n",
              "\n",
              "          const docLinkHtml = 'Like what you see? Visit the ' +\n",
              "            '<a target=\"_blank\" href=https://colab.research.google.com/notebooks/data_table.ipynb>data table notebook</a>'\n",
              "            + ' to learn more about interactive tables.';\n",
              "          element.innerHTML = '';\n",
              "          dataTable['output_type'] = 'display_data';\n",
              "          await google.colab.output.renderOutput(dataTable, element);\n",
              "          const docLink = document.createElement('div');\n",
              "          docLink.innerHTML = docLinkHtml;\n",
              "          element.appendChild(docLink);\n",
              "        }\n",
              "      </script>\n",
              "    </div>\n",
              "  </div>\n",
              "  "
            ]
          },
          "metadata": {},
          "execution_count": 27
        }
      ],
      "source": [
        "frequency_matrix = pd.DataFrame(doc_array, \n",
        "                                columns = count_vector.get_feature_names_out())\n",
        "frequency_matrix"
      ]
    },
    {
      "cell_type": "markdown",
      "id": "66065062",
      "metadata": {
        "id": "66065062"
      },
      "source": [
        "# \n",
        "# 3.0 Split Dataset into Training and Testing for Model "
      ]
    },
    {
      "cell_type": "markdown",
      "id": "62b91bca",
      "metadata": {
        "id": "62b91bca"
      },
      "source": [
        "* Split the data using the following variables:\n",
        "1. X_train is our training data for the 'Message' column.\n",
        "2. y_train is our training data for the 'Category' column\n",
        "3. X_test is our testing data for the 'Message' column.\n",
        "4. y_test is our testing data for the 'Category' column"
      ]
    },
    {
      "cell_type": "code",
      "execution_count": null,
      "id": "69de4bd8",
      "metadata": {
        "colab": {
          "base_uri": "https://localhost:8080/"
        },
        "id": "69de4bd8",
        "outputId": "4bb7b4a7-eaa5-456b-b85b-9b4e57a865ec"
      },
      "outputs": [
        {
          "output_type": "stream",
          "name": "stdout",
          "text": [
            "Number of rows in the total set: 5572\n",
            "Number of rows in the training set: 3900\n",
            "Number of rows in the testing set: 1672\n"
          ]
        }
      ],
      "source": [
        "# Import train_test_split from sklearn.model_selection, and then split randomly with 70-30 concept\n",
        "from sklearn.model_selection import train_test_split\n",
        "\n",
        "X_train, X_test, y_train, y_test = train_test_split(df['Message'],  df['Category'], random_state=1,test_size = 0.3)\n",
        "\n",
        "print('Number of rows in the total set: {}'.format(df.shape[0]))\n",
        "print('Number of rows in the training set: {}'.format(X_train.shape[0]))\n",
        "print('Number of rows in the testing set: {}'.format(X_test.shape[0]))"
      ]
    },
    {
      "cell_type": "code",
      "execution_count": null,
      "id": "3b3fe3a8",
      "metadata": {
        "id": "3b3fe3a8"
      },
      "outputs": [],
      "source": [
        "# Import CountVectorizer from sklearn.feature_extraction.text\n",
        "from sklearn.feature_extraction.text import CountVectorizer\n",
        "\n",
        "# Instantiate the CountVectorizer method\n",
        "count_vector = CountVectorizer()\n",
        "\n",
        "# Transformed training data (X_train) into CountVectorizer() and return the matrix\n",
        "training_data = count_vector.fit_transform(X_train)\n",
        "\n",
        "# Transform our testing data (X_test) to return the matrix\n",
        "testing_data = count_vector.transform(X_test)"
      ]
    },
    {
      "cell_type": "markdown",
      "id": "236027a7",
      "metadata": {
        "id": "236027a7"
      },
      "source": [
        "# \n",
        "# 4.0 Implementing Supervised Learning Algorithms"
      ]
    },
    {
      "cell_type": "markdown",
      "id": "911c158f",
      "metadata": {
        "id": "911c158f"
      },
      "source": [
        "### 4.1 Naive Bayes"
      ]
    },
    {
      "cell_type": "code",
      "execution_count": null,
      "id": "0feaaa0e",
      "metadata": {
        "id": "0feaaa0e"
      },
      "outputs": [],
      "source": [
        "from sklearn.metrics import accuracy_score, precision_score, recall_score, f1_score\n",
        "from sklearn.naive_bayes import MultinomialNB\n",
        "naive_bayes = MultinomialNB()\n",
        "naive_bayes.fit(training_data, y_train)\n",
        "nb_pred = naive_bayes.predict(testing_data)\n",
        "\n",
        "nb_acc = accuracy_score(y_test,nb_pred)*100\n",
        "nb_prec= precision_score(y_test,nb_pred)*100\n",
        "nb_rec= recall_score(y_test,nb_pred)*100\n",
        "nb_f1= f1_score(y_test,nb_pred)*100"
      ]
    },
    {
      "cell_type": "markdown",
      "id": "8e256293",
      "metadata": {
        "id": "8e256293"
      },
      "source": [
        "### 4.2 Random Forest"
      ]
    },
    {
      "cell_type": "code",
      "execution_count": null,
      "id": "91437315",
      "metadata": {
        "id": "91437315"
      },
      "outputs": [],
      "source": [
        "from sklearn.ensemble import RandomForestClassifier\n",
        "rf = RandomForestClassifier()\n",
        "rf.fit(training_data,y_train)\n",
        "rf_pred = rf.predict(testing_data)\n",
        "\n",
        "rf_acc = accuracy_score(y_test,rf_pred)*100\n",
        "rf_prec= precision_score(y_test,rf_pred)*100\n",
        "rf_rec= recall_score(y_test,rf_pred)*100\n",
        "rf_f1= f1_score(y_test,rf_pred)*100"
      ]
    },
    {
      "cell_type": "markdown",
      "id": "7cd2b4c9",
      "metadata": {
        "id": "7cd2b4c9"
      },
      "source": [
        "### 4.3 Support Vector Machine (SVM)"
      ]
    },
    {
      "cell_type": "code",
      "execution_count": null,
      "id": "e7768397",
      "metadata": {
        "id": "e7768397"
      },
      "outputs": [],
      "source": [
        "from sklearn.svm import SVC\n",
        "sv=SVC()\n",
        "sv.fit(training_data,y_train)\n",
        "sv_pred=sv.predict(testing_data)\n",
        "\n",
        "sv_acc = accuracy_score(y_test,sv_pred)*100\n",
        "sv_prec= precision_score(y_test,sv_pred)*100\n",
        "sv_rec= recall_score(y_test,sv_pred)*100\n",
        "sv_f1= f1_score(y_test,sv_pred)*100"
      ]
    },
    {
      "cell_type": "markdown",
      "id": "0f84cd4e",
      "metadata": {
        "id": "0f84cd4e"
      },
      "source": [
        "### 4.4 Logistic Regression"
      ]
    },
    {
      "cell_type": "code",
      "execution_count": null,
      "id": "2b41b47a",
      "metadata": {
        "id": "2b41b47a"
      },
      "outputs": [],
      "source": [
        "from sklearn.linear_model import LogisticRegression\n",
        "log = LogisticRegression()\n",
        "log.fit(training_data, y_train)\n",
        "log_pred = log.predict(testing_data)\n",
        "\n",
        "log_acc = accuracy_score(y_test,log_pred)*100\n",
        "log_prec= precision_score(y_test,log_pred)*100\n",
        "log_rec= recall_score(y_test,log_pred)*100\n",
        "log_f1= f1_score(y_test,log_pred)*100"
      ]
    },
    {
      "cell_type": "markdown",
      "id": "af58f0f8",
      "metadata": {
        "id": "af58f0f8"
      },
      "source": [
        "# \n",
        "# 5.0 Scoring and Metrics"
      ]
    },
    {
      "cell_type": "markdown",
      "id": "1c540dea",
      "metadata": {
        "id": "1c540dea"
      },
      "source": [
        "### 5.1 Navie Bayes Metric Score"
      ]
    },
    {
      "cell_type": "code",
      "execution_count": null,
      "id": "489c3f21",
      "metadata": {
        "id": "489c3f21",
        "outputId": "7825825e-ebef-4892-ee18-ddf11e6767a2",
        "colab": {
          "base_uri": "https://localhost:8080/"
        }
      },
      "outputs": [
        {
          "output_type": "stream",
          "name": "stdout",
          "text": [
            "Accuracy score:  0.9868421052631579\n",
            "Precision score:  0.9727272727272728\n",
            "Recall score:  0.9304347826086956\n",
            "F1 score:  0.9511111111111111\n"
          ]
        }
      ],
      "source": [
        "print('Accuracy score: ', format(accuracy_score(y_test, nb_pred)))\n",
        "print('Precision score: ', format(precision_score(y_test, nb_pred)))\n",
        "print('Recall score: ', format(recall_score(y_test, nb_pred)))\n",
        "print('F1 score: ', format(f1_score(y_test, nb_pred)))"
      ]
    },
    {
      "cell_type": "markdown",
      "id": "0a5bce30",
      "metadata": {
        "id": "0a5bce30"
      },
      "source": [
        "### 5.2 Random Forest Metric Score"
      ]
    },
    {
      "cell_type": "code",
      "execution_count": null,
      "id": "f49e5cae",
      "metadata": {
        "id": "f49e5cae",
        "outputId": "97dc8ede-cdfa-4454-ad33-810db843642e",
        "colab": {
          "base_uri": "https://localhost:8080/"
        }
      },
      "outputs": [
        {
          "output_type": "stream",
          "name": "stdout",
          "text": [
            "Accuracy score:  0.9778708133971292\n",
            "Precision score:  1.0\n",
            "Recall score:  0.8391304347826087\n",
            "F1 score:  0.9125295508274232\n"
          ]
        }
      ],
      "source": [
        "print('Accuracy score: ', format(accuracy_score(y_test, rf_pred)))\n",
        "print('Precision score: ', format(precision_score(y_test, rf_pred)))\n",
        "print('Recall score: ', format(recall_score(y_test, rf_pred)))\n",
        "print('F1 score: ', format(f1_score(y_test, rf_pred)))"
      ]
    },
    {
      "cell_type": "markdown",
      "id": "d75721d1",
      "metadata": {
        "id": "d75721d1"
      },
      "source": [
        "### 5.3 Support Vector Machine (SVM) Metric Score"
      ]
    },
    {
      "cell_type": "code",
      "execution_count": null,
      "id": "94d8a386",
      "metadata": {
        "id": "94d8a386",
        "outputId": "52413b50-ba7a-4aef-acb8-0d21ad31bb75",
        "colab": {
          "base_uri": "https://localhost:8080/"
        }
      },
      "outputs": [
        {
          "output_type": "stream",
          "name": "stdout",
          "text": [
            "Accuracy score:  0.9772727272727273\n",
            "Precision score:  0.9897959183673469\n",
            "Recall score:  0.8434782608695652\n",
            "F1 score:  0.9107981220657276\n"
          ]
        }
      ],
      "source": [
        "print('Accuracy score: ', format(accuracy_score(y_test, sv_pred)))\n",
        "print('Precision score: ', format(precision_score(y_test, sv_pred)))\n",
        "print('Recall score: ', format(recall_score(y_test, sv_pred)))\n",
        "print('F1 score: ', format(f1_score(y_test, sv_pred)))"
      ]
    },
    {
      "cell_type": "markdown",
      "id": "0bd511e4",
      "metadata": {
        "id": "0bd511e4"
      },
      "source": [
        "### 5.4 Logistic Regression Metric Score"
      ]
    },
    {
      "cell_type": "code",
      "execution_count": null,
      "id": "eda9d841",
      "metadata": {
        "id": "eda9d841",
        "outputId": "5cd90a3a-6fc1-4d02-902d-b7dd2279ba73",
        "colab": {
          "base_uri": "https://localhost:8080/"
        }
      },
      "outputs": [
        {
          "output_type": "stream",
          "name": "stdout",
          "text": [
            "Accuracy score:  0.9814593301435407\n",
            "Precision score:  0.9853658536585366\n",
            "Recall score:  0.8782608695652174\n",
            "F1 score:  0.9287356321839081\n"
          ]
        }
      ],
      "source": [
        "print('Accuracy score: ', format(accuracy_score(y_test, log_pred)))\n",
        "print('Precision score: ', format(precision_score(y_test, log_pred)))\n",
        "print('Recall score: ', format(recall_score(y_test, log_pred)))\n",
        "print('F1 score: ', format(f1_score(y_test, log_pred)))"
      ]
    },
    {
      "cell_type": "markdown",
      "id": "3ba82b5d",
      "metadata": {
        "id": "3ba82b5d"
      },
      "source": [
        "## Comparision of Metric Scores"
      ]
    },
    {
      "cell_type": "code",
      "execution_count": null,
      "id": "21ebb2d6",
      "metadata": {
        "id": "21ebb2d6",
        "outputId": "9a4f7471-967e-4736-80c0-6af3836705c8",
        "colab": {
          "base_uri": "https://localhost:8080/",
          "height": 54
        }
      },
      "outputs": [
        {
          "output_type": "display_data",
          "data": {
            "text/plain": [
              "<Figure size 432x288 with 1 Axes>"
            ],
            "image/png": "[encoded data removed]"
          },
          "metadata": {
            "needs_background": "light"
          }
        }
      ],
      "source": [
        "import matplotlib.pyplot as plt\n",
        "import numpy as np\n",
        "\n",
        "\n",
        "labels = ['sv','rf','nb','log']\n",
        "accuracy=[sv_acc,rf_acc,nb_acc,log_acc]\n",
        "precision=[sv_prec,rf_prec,nb_prec,log_prec]\n",
        "recall=[sv_rec,rf_rec,nb_rec,log_rec]\n",
        "f1_score=[sv_f1,rf_f1,nb_f1,log_f1]\n",
        "\n",
        "width = 0.2  \n",
        "r1 = np.arange(0,len(labels)*2,2) \n",
        "r2 = [x + width for x in r1]\n",
        "r3 = [x + width for x in r2]\n",
        "r4 = [x + width for x in r3]\n",
        "\n",
        "rects1 = plt.bar(r1, accuracy, width, label='Accuracy')\n",
        "rects2 = plt.bar(r2, precision, width, label='Precision')\n",
        "rects3 = plt.bar(r3, recall, width, label='Recall')\n",
        "rects4 = plt.bar(r4, f1_score, width, label='F1-score')\n",
        "plt.rcParams[\"figure.figsize\"] = (15,5)\n",
        "\n",
        "plt.ylabel('Scores')\n",
        "plt.title('Metric scores of various classification algorithms')\n",
        "plt.xticks([r + width for r in range(0,len(labels)*2,2)], ['svm','rf','nb','log'])\n",
        "plt.legend(loc='best',bbox_to_anchor=(1.05, 1))\n",
        "plt.show()"
      ]
    },
    {
      "cell_type": "markdown",
      "id": "d5933886",
      "metadata": {
        "id": "d5933886"
      },
      "source": [
        "## Confusion Matrix"
      ]
    },
    {
      "cell_type": "markdown",
      "id": "9fe18e8c",
      "metadata": {
        "id": "9fe18e8c"
      },
      "source": [
        "* From 4 models result, **Naive Bayes Model** got the highest Metric Score"
      ]
    },
    {
      "cell_type": "code",
      "execution_count": null,
      "id": "0fbc5a5c",
      "metadata": {
        "id": "0fbc5a5c",
        "outputId": "f01c1a30-fba6-4612-e85a-d992bb448310",
        "colab": {
          "base_uri": "https://localhost:8080/"
        }
      },
      "outputs": [
        {
          "output_type": "stream",
          "name": "stdout",
          "text": [
            "[[1436   16]\n",
            " [   6  214]]\n"
          ]
        }
      ],
      "source": [
        "# Plot the confusion Matrix of Naive Bayes Model\n",
        "from sklearn.metrics import confusion_matrix\n",
        "print(confusion_matrix(nb_pred , y_test)) "
      ]
    },
    {
      "cell_type": "code",
      "execution_count": null,
      "id": "e15251f5",
      "metadata": {
        "id": "e15251f5",
        "outputId": "98e72bad-e16d-4b9a-d47d-9c3809bd372f",
        "colab": {
          "base_uri": "https://localhost:8080/"
        }
      },
      "outputs": [
        {
          "output_type": "stream",
          "name": "stdout",
          "text": [
            "              precision    recall  f1-score   support\n",
            "\n",
            "       Ham,0       0.99      1.00      0.99      1442\n",
            "      Spam,1       0.97      0.93      0.95       230\n",
            "\n",
            "    accuracy                           0.99      1672\n",
            "   macro avg       0.98      0.96      0.97      1672\n",
            "weighted avg       0.99      0.99      0.99      1672\n",
            "\n"
          ]
        }
      ],
      "source": [
        "# Classification Report of Naive Bayes Model\n",
        "from sklearn.metrics import classification_report\n",
        "target_names = ['Ham,0', 'Spam,1']\n",
        "print(classification_report(y_test, nb_pred, target_names=target_names))"
      ]
    },
    {
      "cell_type": "markdown",
      "id": "1bc10db0",
      "metadata": {
        "id": "1bc10db0"
      },
      "source": [
        "# \n",
        "# 6.0 Conclusion"
      ]
    },
    {
      "cell_type": "markdown",
      "id": "ea0831bc",
      "metadata": {
        "id": "ea0831bc"
      },
      "source": [
        "* Select naive bayes model as an overall highest accuracy model for spam email detection "
      ]
    },
    {
      "cell_type": "markdown",
      "id": "efe4a331",
      "metadata": {
        "id": "efe4a331"
      },
      "source": [
        "## 6.1 Mini-Pipeline"
      ]
    },
    {
      "cell_type": "markdown",
      "source": [
        "* Create a mini-pipiline to detect other message"
      ],
      "metadata": {
        "id": "c6NCCdEUOYKD"
      },
      "id": "c6NCCdEUOYKD"
    },
    {
      "cell_type": "markdown",
      "source": [
        "* Import the Data"
      ],
      "metadata": {
        "id": "mvpkB_IrOlTJ"
      },
      "id": "mvpkB_IrOlTJ"
    },
    {
      "cell_type": "code",
      "source": [
        "file_id = '1HYeWdPwitOx9FEmNAMumDdMAHt21nwrF'\n",
        "downloaded2 = drive.CreateFile({'id': file_id})\n",
        "\n",
        "# Save file in Colab memory\n",
        "downloaded2.GetContentFile('Data1_test.csv')  "
      ],
      "metadata": {
        "id": "mR2HlMaPFs3h"
      },
      "id": "mR2HlMaPFs3h",
      "execution_count": null,
      "outputs": []
    },
    {
      "cell_type": "code",
      "source": [
        "df1 = pd.read_csv('Data1_test.csv', encoding='unicode_escape')\n",
        "\n",
        "# Output printing out first 5 columns\n",
        "print(df1.head())"
      ],
      "metadata": {
        "colab": {
          "base_uri": "https://localhost:8080/"
        },
        "id": "wiAMT2RgOvh5",
        "outputId": "aaed5319-8d54-4e62-afa4-fb50eeeb977a"
      },
      "id": "wiAMT2RgOvh5",
      "execution_count": null,
      "outputs": [
        {
          "output_type": "stream",
          "name": "stdout",
          "text": [
            "   S. No.                                       Message_body Label\n",
            "0       1  UpgrdCentre Orange customer, you may now claim...  Spam\n",
            "1       2  Loan for any purpose £500 - £75,000. Homeowner...  Spam\n",
            "2       3  Congrats! Nokia 3650 video camera phone is you...  Spam\n",
            "3       4  URGENT! Your Mobile number has been awarded wi...  Spam\n",
            "4       5  Someone has contacted our dating service and e...  Spam\n"
          ]
        }
      ]
    },
    {
      "cell_type": "code",
      "source": [
        "# Delete the serial number column\n",
        "df1 = df1.iloc[:,1:]\n",
        "\n",
        "print(df1.head())"
      ],
      "metadata": {
        "colab": {
          "base_uri": "https://localhost:8080/"
        },
        "id": "zYlihuJ6ITCr",
        "outputId": "fd4e0fee-bcf7-420d-de51-7907fa236557"
      },
      "id": "zYlihuJ6ITCr",
      "execution_count": null,
      "outputs": [
        {
          "output_type": "stream",
          "name": "stdout",
          "text": [
            "                                        Message_body Label\n",
            "0  UpgrdCentre Orange customer, you may now claim...  Spam\n",
            "1  Loan for any purpose £500 - £75,000. Homeowner...  Spam\n",
            "2  Congrats! Nokia 3650 video camera phone is you...  Spam\n",
            "3  URGENT! Your Mobile number has been awarded wi...  Spam\n",
            "4  Someone has contacted our dating service and e...  Spam\n"
          ]
        }
      ]
    },
    {
      "cell_type": "markdown",
      "source": [
        "* Convert Label: Non-Spam = 0, Spam = 1"
      ],
      "metadata": {
        "id": "iVvTFprXPK67"
      },
      "id": "iVvTFprXPK67"
    },
    {
      "cell_type": "code",
      "execution_count": null,
      "id": "1cee5b5b",
      "metadata": {
        "id": "1cee5b5b",
        "colab": {
          "base_uri": "https://localhost:8080/"
        },
        "outputId": "43a876d7-8c9f-4b8f-cf73-5d01ac49f278"
      },
      "outputs": [
        {
          "output_type": "stream",
          "name": "stdout",
          "text": [
            "                                        Message_body  Label\n",
            "0  UpgrdCentre Orange customer, you may now claim...      1\n",
            "1  Loan for any purpose £500 - £75,000. Homeowner...      1\n",
            "2  Congrats! Nokia 3650 video camera phone is you...      1\n",
            "3  URGENT! Your Mobile number has been awarded wi...      1\n",
            "4  Someone has contacted our dating service and e...      1\n"
          ]
        }
      ],
      "source": [
        "df1['Label'] = df1.Label.map({'Non-Spam':0, 'Spam':1})\n",
        "print(df1.head())"
      ]
    },
    {
      "cell_type": "code",
      "execution_count": null,
      "id": "bab52ce6",
      "metadata": {
        "id": "bab52ce6",
        "colab": {
          "base_uri": "https://localhost:8080/"
        },
        "outputId": "eef26f87-7a04-4088-a6b6-46e51ad93f7b"
      },
      "outputs": [
        {
          "output_type": "stream",
          "name": "stdout",
          "text": [
            "Number of Message: 125\n"
          ]
        }
      ],
      "source": [
        "print(\"Number of Message: {}\".format(len(df1)))"
      ]
    },
    {
      "cell_type": "code",
      "execution_count": null,
      "id": "621e52ad",
      "metadata": {
        "id": "621e52ad",
        "outputId": "662babcc-7724-4f1d-c367-5d873500b830",
        "colab": {
          "base_uri": "https://localhost:8080/"
        }
      },
      "outputs": [
        {
          "output_type": "stream",
          "name": "stdout",
          "text": [
            "Number of rows in the total set: 125\n",
            "Number of rows in the testing set: 125\n"
          ]
        }
      ],
      "source": [
        "print('Number of rows in the total set: {}'.format(df1.shape[0]))\n",
        "print('Number of rows in the testing set: {}'.format(df1.shape[0]))"
      ]
    },
    {
      "cell_type": "markdown",
      "source": [
        "* Random pick a message from df1 by using random package"
      ],
      "metadata": {
        "id": "ztiC9oWKZ4AX"
      },
      "id": "ztiC9oWKZ4AX"
    },
    {
      "cell_type": "code",
      "execution_count": null,
      "id": "55b1f54f",
      "metadata": {
        "id": "55b1f54f"
      },
      "outputs": [],
      "source": [
        "import random\n",
        "msg_id = random.randint(0, len(df1))\n",
        "new_msg_iloc = df1.iloc[msg_id]\n",
        "new_msg = format(new_msg_iloc[\"Message_body\"])"
      ]
    },
    {
      "cell_type": "markdown",
      "source": [
        "* Print the Message_body selected and the Label"
      ],
      "metadata": {
        "id": "TcYCRKFKaKUF"
      },
      "id": "TcYCRKFKaKUF"
    },
    {
      "cell_type": "code",
      "source": [
        "print(\"Message: {}\".format(new_msg_iloc[\"Message_body\"]))\n",
        "print(\"Message label: {}\".format(new_msg_iloc[\"Label\"]))"
      ],
      "metadata": {
        "id": "y5NeztHfPdD7",
        "colab": {
          "base_uri": "https://localhost:8080/"
        },
        "outputId": "0264da3b-738b-493c-fc7e-7b6691322161"
      },
      "id": "y5NeztHfPdD7",
      "execution_count": null,
      "outputs": [
        {
          "output_type": "stream",
          "name": "stdout",
          "text": [
            "Message: GENT! We are trying to contact you. Last weekends draw shows that you won a £1000 prize GUARANTEED. Call 09064012160. Claim Code K52. Valid 12hrs only. 150ppm\n",
            "Message label: 1\n"
          ]
        }
      ]
    },
    {
      "cell_type": "markdown",
      "source": [
        "* Define a function to detect the message"
      ],
      "metadata": {
        "id": "th7L1Po6aQqt"
      },
      "id": "th7L1Po6aQqt"
    },
    {
      "cell_type": "code",
      "source": [
        "def predict_msg(msg):\n",
        "  t_processed_msg = count_vector.transform([msg])\n",
        "  nb_pred = naive_bayes.predict(t_processed_msg)\n",
        "\n",
        "  if nb_pred == 1:\n",
        "    return \"Prediction is spam, 1.\"\n",
        "  else:\n",
        "    return \"Prediction is ham, 0.\""
      ],
      "metadata": {
        "id": "I61m4e0hPf0K"
      },
      "id": "I61m4e0hPf0K",
      "execution_count": null,
      "outputs": []
    },
    {
      "cell_type": "code",
      "source": [
        "predict_msg(new_msg)"
      ],
      "metadata": {
        "id": "CdNnBTOePhPi",
        "colab": {
          "base_uri": "https://localhost:8080/",
          "height": 35
        },
        "outputId": "895eb894-256c-4cb5-e134-98c952c7c9a8"
      },
      "id": "CdNnBTOePhPi",
      "execution_count": null,
      "outputs": [
        {
          "output_type": "execute_result",
          "data": {
            "text/plain": [
              "'Prediction is spam, 1.'"
            ],
            "application/vnd.google.colaboratory.intrinsic+json": {
              "type": "string"
            }
          },
          "metadata": {},
          "execution_count": 73
        }
      ]
    },
    {
      "cell_type": "markdown",
      "source": [
        "* You also can typing any testing message and predict your message:"
      ],
      "metadata": {
        "id": "N3Y2JAs_Pix0"
      },
      "id": "N3Y2JAs_Pix0"
    },
    {
      "cell_type": "code",
      "source": [
        "testing_msg= \"Sat right? Okaaaay thankssssss...\""
      ],
      "metadata": {
        "id": "FonMM-pVPkVe"
      },
      "id": "FonMM-pVPkVe",
      "execution_count": null,
      "outputs": []
    },
    {
      "cell_type": "code",
      "source": [
        "predict_msg(testing_msg)"
      ],
      "metadata": {
        "id": "_kwLaldXPm5y",
        "colab": {
          "base_uri": "https://localhost:8080/",
          "height": 35
        },
        "outputId": "47f5e83f-84ef-4ff6-d305-ce3c0b54fba4"
      },
      "id": "_kwLaldXPm5y",
      "execution_count": null,
      "outputs": [
        {
          "output_type": "execute_result",
          "data": {
            "text/plain": [
              "'Prediction is ham, 0.'"
            ],
            "application/vnd.google.colaboratory.intrinsic+json": {
              "type": "string"
            }
          },
          "metadata": {},
          "execution_count": 54
        }
      ]
    }
  ],
  "metadata": {
    "kernelspec": {
      "display_name": "Python 3 (ipykernel)",
      "language": "python",
      "name": "python3"
    },
    "language_info": {
      "codemirror_mode": {
        "name": "ipython",
        "version": 3
      },
      "file_extension": ".py",
      "mimetype": "text/x-python",
      "name": "python",
      "nbconvert_exporter": "python",
      "pygments_lexer": "ipython3",
      "version": "3.9.7"
    },
    "colab": {
      "name": "Email Spam Data 2.ipynb",
      "provenance": [],
      "collapsed_sections": [
        "5aa95542",
        "f06ba0f6",
        "cf777a32",
        "66065062",
        "911c158f",
        "8e256293",
        "7cd2b4c9",
        "0f84cd4e",
        "1c540dea",
        "0a5bce30",
        "d75721d1",
        "0bd511e4",
        "3ba82b5d",
        "d5933886"
      ]
    }
  },
  "nbformat": 4,
  "nbformat_minor": 5
}
